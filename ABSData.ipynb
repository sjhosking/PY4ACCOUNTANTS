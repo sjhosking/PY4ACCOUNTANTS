{
 "cells": [
  {
   "cell_type": "markdown",
   "metadata": {},
   "source": [
    "A common KPI for any company is it's market share. The basic formula for the calculation is company sales / total market sales. One neat way to get the denominator automactically (ie total market sales) is to use the Australian Bureau of Statistics API. The below script as an example gets the total sales for the retail supermarket Australia wide.\n",
    "\n",
    "https://www.abs.gov.au/ausstats/abs@.nsf/Lookup/1407.0.55.002Main+Features3User+Guide"
   ]
  },
  {
   "cell_type": "code",
   "execution_count": 8,
   "metadata": {},
   "outputs": [
    {
     "data": {
      "text/plain": [
       "('Start: 2018-01', 'End: 2021-05')"
      ]
     },
     "execution_count": 8,
     "metadata": {},
     "output_type": "execute_result"
    }
   ],
   "source": [
    "# First we will use some open source libraries\n",
    "from datetime import datetime\n",
    "import requests\n",
    "import pandas as pd\n",
    "import pypyodbc \n",
    "import numpy as np\n",
    "import xlsxwriter\n",
    "\n",
    "# Get start and end period for API query using the datetime library\n",
    "now = datetime.now()\n",
    "end = str(now.year) + \"-\" + str(now.month).zfill(2)\n",
    "start = str(now.year - 3) + \"-\" + str('01')\n",
    "\n",
    "\"Start: \" + start,\"End: \" + end"
   ]
  },
  {
   "cell_type": "markdown",
   "metadata": {},
   "source": [
    "Using the date time library, we can get our start and last date to insert into the url. This could also be done manually, or via the input() function built into python, but for my purposes I've created a variable which gets todays year and month as the end, and the same month three years ago for the start."
   ]
  },
  {
   "cell_type": "code",
   "execution_count": 11,
   "metadata": {},
   "outputs": [
    {
     "data": {
      "text/plain": [
       "{'header': {'id': '530bf19f-33a1-4a76-8c32-3d762013191e',\n",
       "  'test': False,\n",
       "  'prepared': '2021-05-13T12:16:13.0868292Z',\n",
       "  'sender': {'id': 'ABS', 'name': 'Australian Bureau of Statistics'},\n",
       "  'links': [{'href': 'http://stat.data.abs.gov.au:80/sdmx-json/data/RT/0.2.01.10.M/all?detail=Full&dimensionAtObservation=AllDimensions&startPeriod=2018-01&endPeriod=2021-05',\n",
       "    'rel': 'request'}]},\n",
       " 'dataSets': [{'action': 'Information',\n",
       "   'observations': {'0:0:0:0:0:0': [9001.13, 0, None],\n",
       "    '0:0:0:0:0:1': [8252.32, 0, None],\n",
       "    '0:0:0:0:0:2': [9348.06, 0, None],\n",
       "    '0:0:0:0:0:3': [8685.34, 0, None],\n",
       "    '0:0:0:0:0:4': [8950.29, 0, None],\n",
       "    '0:0:0:0:0:5': [8625.18, 0, None],\n",
       "    '0:0:0:0:0:6': [8918.78, 0, None],\n",
       "    '0:0:0:0:0:7': [9115.1, 0, None],\n",
       "    '0:0:0:0:0:8': [8968.78, 0, None],\n",
       "    '0:0:0:0:0:9': [9355.1, 0, None],\n",
       "    '0:0:0:0:0:10': [9390.87, 0, None],\n",
       "    '0:0:0:0:0:11': [10536.39, 0, None],\n",
       "    '0:0:0:0:0:12': [9494.2, 0, None],\n",
       "    '0:0:0:0:0:13': [8703.54, 0, None],\n",
       "    '0:0:0:0:0:14': [9608.02, 0, None],\n",
       "    '0:0:0:0:0:15': [9163.69, 0, None],\n",
       "    '0:0:0:0:0:16': [9303.5, 0, None],\n",
       "    '0:0:0:0:0:17': [8963.13, 0, None],\n",
       "    '0:0:0:0:0:18': [9270.19, 0, None],\n",
       "    '0:0:0:0:0:19': [9536.82, 0, None],\n",
       "    '0:0:0:0:0:20': [9217.06, 0, None],\n",
       "    '0:0:0:0:0:21': [9740.05, 0, None],\n",
       "    '0:0:0:0:0:22': [9741.44, 0, None],\n",
       "    '0:0:0:0:0:23': [10751.57, 0, None],\n",
       "    '0:0:0:0:0:24': [9784.65, 0, None],\n",
       "    '0:0:0:0:0:25': [9397.76, 0, None],\n",
       "    '0:0:0:0:0:26': [11994.51, 0, None],\n",
       "    '0:0:0:0:0:27': [9704.5, 0, None],\n",
       "    '0:0:0:0:0:28': [10281.94, 0, None],\n",
       "    '0:0:0:0:0:29': [9855.03, 0, None],\n",
       "    '0:0:0:0:0:30': [10525.09, 0, None],\n",
       "    '0:0:0:0:0:31': [10607.61, 0, None],\n",
       "    '0:0:0:0:0:32': [10237.96, 0, None],\n",
       "    '0:0:0:0:0:33': [10770.24, 0, None],\n",
       "    '0:0:0:0:0:34': [10525.25, 0, None],\n",
       "    '0:0:0:0:0:35': [11589.21, 0, None],\n",
       "    '0:0:0:0:0:36': [10638.71, 0, None],\n",
       "    '0:0:0:0:0:37': [9460.46, 0, None],\n",
       "    '0:0:0:0:0:38': [10393.05, 0, None]}}],\n",
       " 'structure': {'links': [{'href': 'http://stat.data.abs.gov.au/sdmx-json/dataflow/RT/all',\n",
       "    'rel': 'dataflow'}],\n",
       "  'name': 'Retail Trade',\n",
       "  'description': 'Retail Trade',\n",
       "  'dimensions': {'observation': [{'keyPosition': 0,\n",
       "     'id': 'ASGC_2010',\n",
       "     'name': 'Region',\n",
       "     'values': [{'id': '0', 'name': 'Australia'}]},\n",
       "    {'keyPosition': 1,\n",
       "     'id': 'DT',\n",
       "     'name': 'Data Type',\n",
       "     'values': [{'id': '2', 'name': 'Current Prices ($ Million)'}]},\n",
       "    {'keyPosition': 2,\n",
       "     'id': 'IND_R',\n",
       "     'name': 'Retail Industry',\n",
       "     'values': [{'id': '01', 'name': 'Supermarket and grocery stores'}]},\n",
       "    {'keyPosition': 3,\n",
       "     'id': 'TSEST',\n",
       "     'name': 'Adjustment Type',\n",
       "     'values': [{'id': '10', 'name': 'Original'}]},\n",
       "    {'keyPosition': 4,\n",
       "     'id': 'FREQUENCY',\n",
       "     'name': 'Frequency',\n",
       "     'values': [{'id': 'M', 'name': 'Monthly'}],\n",
       "     'role': 'FREQ'},\n",
       "    {'id': 'TIME_PERIOD',\n",
       "     'name': 'Time',\n",
       "     'values': [{'id': '2018-01', 'name': 'Jan-2018'},\n",
       "      {'id': '2018-02', 'name': 'Feb-2018'},\n",
       "      {'id': '2018-03', 'name': 'Mar-2018'},\n",
       "      {'id': '2018-04', 'name': 'Apr-2018'},\n",
       "      {'id': '2018-05', 'name': 'May-2018'},\n",
       "      {'id': '2018-06', 'name': 'Jun-2018'},\n",
       "      {'id': '2018-07', 'name': 'Jul-2018'},\n",
       "      {'id': '2018-08', 'name': 'Aug-2018'},\n",
       "      {'id': '2018-09', 'name': 'Sep-2018'},\n",
       "      {'id': '2018-10', 'name': 'Oct-2018'},\n",
       "      {'id': '2018-11', 'name': 'Nov-2018'},\n",
       "      {'id': '2018-12', 'name': 'Dec-2018'},\n",
       "      {'id': '2019-01', 'name': 'Jan-2019'},\n",
       "      {'id': '2019-02', 'name': 'Feb-2019'},\n",
       "      {'id': '2019-03', 'name': 'Mar-2019'},\n",
       "      {'id': '2019-04', 'name': 'Apr-2019'},\n",
       "      {'id': '2019-05', 'name': 'May-2019'},\n",
       "      {'id': '2019-06', 'name': 'Jun-2019'},\n",
       "      {'id': '2019-07', 'name': 'Jul-2019'},\n",
       "      {'id': '2019-08', 'name': 'Aug-2019'},\n",
       "      {'id': '2019-09', 'name': 'Sep-2019'},\n",
       "      {'id': '2019-10', 'name': 'Oct-2019'},\n",
       "      {'id': '2019-11', 'name': 'Nov-2019'},\n",
       "      {'id': '2019-12', 'name': 'Dec-2019'},\n",
       "      {'id': '2020-01', 'name': 'Jan-2020'},\n",
       "      {'id': '2020-02', 'name': 'Feb-2020'},\n",
       "      {'id': '2020-03', 'name': 'Mar-2020'},\n",
       "      {'id': '2020-04', 'name': 'Apr-2020'},\n",
       "      {'id': '2020-05', 'name': 'May-2020'},\n",
       "      {'id': '2020-06', 'name': 'Jun-2020'},\n",
       "      {'id': '2020-07', 'name': 'Jul-2020'},\n",
       "      {'id': '2020-08', 'name': 'Aug-2020'},\n",
       "      {'id': '2020-09', 'name': 'Sep-2020'},\n",
       "      {'id': '2020-10', 'name': 'Oct-2020'},\n",
       "      {'id': '2020-11', 'name': 'Nov-2020'},\n",
       "      {'id': '2020-12', 'name': 'Dec-2020'},\n",
       "      {'id': '2021-01', 'name': 'Jan-2021'},\n",
       "      {'id': '2021-02', 'name': 'Feb-2021'},\n",
       "      {'id': '2021-03', 'name': 'Mar-2021'}],\n",
       "     'role': 'TIME_PERIOD'}]},\n",
       "  'attributes': {'dataSet': [],\n",
       "   'series': [],\n",
       "   'observation': [{'id': 'TIME_FORMAT',\n",
       "     'name': 'Time Format',\n",
       "     'values': [{'id': 'P1M', 'name': 'Monthly'}]},\n",
       "    {'id': 'OBS_STATUS', 'name': 'Observation Status', 'values': []}]},\n",
       "  'annotations': [{'title': 'Statistical usage warning',\n",
       "    'uri': '',\n",
       "    'text': 'ABS.Stat beta is continuing to be developed.  Data will be updated as soon as possible following its 11:30 am release on the ABS website.'}]}}"
      ]
     },
     "execution_count": 11,
     "metadata": {},
     "output_type": "execute_result"
    }
   ],
   "source": [
    "# Using the URL from the ABS website to make the request. Note that parameters are fed into the URL.\n",
    "\n",
    "url = 'http://stat.data.abs.gov.au/sdmx-json/data/RT/0.2.01.10.M/all?detail=Full&dimensionAtObservation=AllDimensions&startPeriod=' + start + '&endPeriod=' + end\n",
    "data = requests.get(url).json()\n",
    "\n",
    "data"
   ]
  },
  {
   "cell_type": "markdown",
   "metadata": {},
   "source": [
    "As you can see, we get a JSON file with our data set. Its a bit messy, but we can iterate through the JSON file with some very simple code."
   ]
  },
  {
   "cell_type": "code",
   "execution_count": 13,
   "metadata": {},
   "outputs": [
    {
     "data": {
      "text/plain": [
       "(         index        0  1     2\n",
       " 0  0:0:0:0:0:0  9001.13  0  None\n",
       " 1  0:0:0:0:0:1  8252.32  0  None\n",
       " 2  0:0:0:0:0:2  9348.06  0  None\n",
       " 3  0:0:0:0:0:3  8685.34  0  None\n",
       " 4  0:0:0:0:0:4  8950.29  0  None,\n",
       "    index       id      name\n",
       " 0      0  2018-01  Jan-2018\n",
       " 1      1  2018-02  Feb-2018\n",
       " 2      2  2018-03  Mar-2018\n",
       " 3      3  2018-04  Apr-2018\n",
       " 4      4  2018-05  May-2018)"
      ]
     },
     "execution_count": 13,
     "metadata": {},
     "output_type": "execute_result"
    }
   ],
   "source": [
    "# This picks up the data\n",
    "ds = data['dataSets'][0]['observations']\n",
    "df = pd.DataFrame.from_dict(ds, orient = 'index').reset_index()\n",
    "\n",
    "# This picks up the month periods\n",
    "ds1 = data['structure']['dimensions']['observation'][5]['values']\n",
    "df1 = pd.DataFrame(ds1).reset_index()\n",
    "\n",
    "df.head(5), df1.head(5)"
   ]
  },
  {
   "cell_type": "markdown",
   "metadata": {},
   "source": [
    "Now that we have our data frames, we can now combine them using the pandas funcion concat on the index."
   ]
  },
  {
   "cell_type": "code",
   "execution_count": 14,
   "metadata": {},
   "outputs": [
    {
     "data": {
      "text/html": [
       "<div>\n",
       "<style scoped>\n",
       "    .dataframe tbody tr th:only-of-type {\n",
       "        vertical-align: middle;\n",
       "    }\n",
       "\n",
       "    .dataframe tbody tr th {\n",
       "        vertical-align: top;\n",
       "    }\n",
       "\n",
       "    .dataframe thead th {\n",
       "        text-align: right;\n",
       "    }\n",
       "</style>\n",
       "<table border=\"1\" class=\"dataframe\">\n",
       "  <thead>\n",
       "    <tr style=\"text-align: right;\">\n",
       "      <th></th>\n",
       "      <th>0</th>\n",
       "      <th>id</th>\n",
       "      <th>name</th>\n",
       "    </tr>\n",
       "  </thead>\n",
       "  <tbody>\n",
       "    <tr>\n",
       "      <th>0</th>\n",
       "      <td>9001.13</td>\n",
       "      <td>2018-01</td>\n",
       "      <td>Jan-2018</td>\n",
       "    </tr>\n",
       "    <tr>\n",
       "      <th>1</th>\n",
       "      <td>8252.32</td>\n",
       "      <td>2018-02</td>\n",
       "      <td>Feb-2018</td>\n",
       "    </tr>\n",
       "    <tr>\n",
       "      <th>2</th>\n",
       "      <td>9348.06</td>\n",
       "      <td>2018-03</td>\n",
       "      <td>Mar-2018</td>\n",
       "    </tr>\n",
       "    <tr>\n",
       "      <th>3</th>\n",
       "      <td>8685.34</td>\n",
       "      <td>2018-04</td>\n",
       "      <td>Apr-2018</td>\n",
       "    </tr>\n",
       "    <tr>\n",
       "      <th>4</th>\n",
       "      <td>8950.29</td>\n",
       "      <td>2018-05</td>\n",
       "      <td>May-2018</td>\n",
       "    </tr>\n",
       "    <tr>\n",
       "      <th>5</th>\n",
       "      <td>8625.18</td>\n",
       "      <td>2018-06</td>\n",
       "      <td>Jun-2018</td>\n",
       "    </tr>\n",
       "    <tr>\n",
       "      <th>6</th>\n",
       "      <td>8918.78</td>\n",
       "      <td>2018-07</td>\n",
       "      <td>Jul-2018</td>\n",
       "    </tr>\n",
       "    <tr>\n",
       "      <th>7</th>\n",
       "      <td>9115.10</td>\n",
       "      <td>2018-08</td>\n",
       "      <td>Aug-2018</td>\n",
       "    </tr>\n",
       "    <tr>\n",
       "      <th>8</th>\n",
       "      <td>8968.78</td>\n",
       "      <td>2018-09</td>\n",
       "      <td>Sep-2018</td>\n",
       "    </tr>\n",
       "    <tr>\n",
       "      <th>9</th>\n",
       "      <td>9355.10</td>\n",
       "      <td>2018-10</td>\n",
       "      <td>Oct-2018</td>\n",
       "    </tr>\n",
       "  </tbody>\n",
       "</table>\n",
       "</div>"
      ],
      "text/plain": [
       "         0       id      name\n",
       "0  9001.13  2018-01  Jan-2018\n",
       "1  8252.32  2018-02  Feb-2018\n",
       "2  9348.06  2018-03  Mar-2018\n",
       "3  8685.34  2018-04  Apr-2018\n",
       "4  8950.29  2018-05  May-2018\n",
       "5  8625.18  2018-06  Jun-2018\n",
       "6  8918.78  2018-07  Jul-2018\n",
       "7  9115.10  2018-08  Aug-2018\n",
       "8  8968.78  2018-09  Sep-2018\n",
       "9  9355.10  2018-10  Oct-2018"
      ]
     },
     "execution_count": 14,
     "metadata": {},
     "output_type": "execute_result"
    }
   ],
   "source": [
    "combined = pd.concat([df, df1.reindex(df1.index)], axis=1).drop(['index',1,2],axis=1)\n",
    "\n",
    "combined.head(10)"
   ]
  }
 ],
 "metadata": {
  "kernelspec": {
   "display_name": "Python 3",
   "language": "python",
   "name": "python3"
  },
  "language_info": {
   "codemirror_mode": {
    "name": "ipython",
    "version": 3
   },
   "file_extension": ".py",
   "mimetype": "text/x-python",
   "name": "python",
   "nbconvert_exporter": "python",
   "pygments_lexer": "ipython3",
   "version": "3.8.1"
  }
 },
 "nbformat": 4,
 "nbformat_minor": 4
}
